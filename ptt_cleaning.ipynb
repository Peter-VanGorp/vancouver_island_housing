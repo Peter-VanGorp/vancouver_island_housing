{
 "cells": [
  {
   "cell_type": "code",
   "execution_count": 1,
   "id": "f19e42c5-38c3-4a46-805b-0a9a81a5c00a",
   "metadata": {
    "tags": []
   },
   "outputs": [],
   "source": [
    "import pandas as pd\n",
    "import numpy as np"
   ]
  },
  {
   "cell_type": "code",
   "execution_count": 2,
   "id": "5730ce98-1a7d-4cc5-8983-23630b9afd2b",
   "metadata": {
    "tags": []
   },
   "outputs": [],
   "source": [
    "raw_data = pd.read_csv('2022_municipal_monthly.csv')"
   ]
  },
  {
   "cell_type": "code",
   "execution_count": 3,
   "id": "06689703-47e4-4b49-bbdd-566c6e396de6",
   "metadata": {
    "tags": []
   },
   "outputs": [
    {
     "data": {
      "text/plain": [
       "Index(['DevelopmentRegion', 'RegionalDistrict', 'Municipality', 'Year',\n",
       "       'Month', 'tot_mkt_trans', 'n_res_trans', 'n_res_1fam', 'n_res_strata',\n",
       "       'n_res_fam', 'n_res_strata_rental', 'n_res_acreage_trans', 'n_res_unkn',\n",
       "       'n_comm_tran', 'n_comm_comm', 'n_comm_strata_nores', 'n_comm_industry',\n",
       "       'n_comm_util', 'n_comm_unkn', 'n_farm_tran', 'n_recr_tran',\n",
       "       'n_forest_tran', 'n_unkn_tran', 'n_fth', 'n_nbh', 'n_tot_corp_tran',\n",
       "       'n_tot_indv_tran', 'sum_FMV', 'mn_FMV', 'md_FMV', 'sum_PPT_paid',\n",
       "       'md_PPT', 'n_foreign_tran', 'n_foreign_res', 'n_foreign_comm',\n",
       "       'n_foreign_oth_unk', 'n_foreign_corp_tran', 'n_foreign_indv_tran',\n",
       "       'perc_n_foreign_res', 'sum_FMV_foreign_res', 'mn_FMV_foreign_res',\n",
       "       'md_FMV_foreign_res', 'n_lt1M_foreign_res', 'n_gt1M_foreign_res',\n",
       "       'n_gt3M_foreign_res', 'add_tax_paid', 'sum_FMV_foreign', 'sum_FMV_res',\n",
       "       'perc_FMV_foreign_res', 'sum_invest_foreign_res',\n",
       "       'perc_invest_foreign_res'],\n",
       "      dtype='object')"
      ]
     },
     "execution_count": 3,
     "metadata": {},
     "output_type": "execute_result"
    }
   ],
   "source": [
    "raw_data.columns"
   ]
  },
  {
   "cell_type": "code",
   "execution_count": 20,
   "id": "9d4d95db-e397-4762-b2f2-26510dc307bf",
   "metadata": {
    "tags": []
   },
   "outputs": [],
   "source": [
    "df = raw_data[['DevelopmentRegion', 'RegionalDistrict', 'Municipality', 'Month', 'n_res_trans', 'n_res_1fam', 'n_res_strata',\n",
    "       'n_res_fam', 'n_res_strata_rental', 'n_res_acreage_trans', 'n_res_unkn', 'sum_FMV_res', 'n_fth']]"
   ]
  },
  {
   "cell_type": "code",
   "execution_count": 19,
   "id": "acf8e00a-5d25-4b2b-821e-6d3cd2e2fb3f",
   "metadata": {
    "tags": []
   },
   "outputs": [
    {
     "data": {
      "text/plain": [
       "array(['Cariboo', 'Kootenay', 'Mainland/Southwest',\n",
       "       'Nechako & North Coast', 'Northeast', 'Thompson/Okanagan',\n",
       "       'Unknown', 'Vancouver Island/Coast'], dtype=object)"
      ]
     },
     "execution_count": 19,
     "metadata": {},
     "output_type": "execute_result"
    }
   ],
   "source": [
    "df['DevelopmentRegion'].unique()"
   ]
  },
  {
   "cell_type": "code",
   "execution_count": 21,
   "id": "9a71e9b7-7e4f-441e-aa2a-e55dfd07efcb",
   "metadata": {
    "tags": []
   },
   "outputs": [],
   "source": [
    "df = df.loc[df['DevelopmentRegion'] == 'Vancouver Island/Coast']"
   ]
  },
  {
   "cell_type": "code",
   "execution_count": 23,
   "id": "499edf2d-2cea-4ecf-8462-ad16d51da27d",
   "metadata": {
    "tags": []
   },
   "outputs": [
    {
     "data": {
      "text/plain": [
       "array(['01 - Alberni-Clayoquot', '03 - Capital', '09 - Comox Valley',\n",
       "       '10 - Cowichan Valley', '17 - Mount Waddington', '18 - Nanaimo',\n",
       "       '20 - Central Coast', '23 - qathet', '31 - Strathcona'],\n",
       "      dtype=object)"
      ]
     },
     "execution_count": 23,
     "metadata": {},
     "output_type": "execute_result"
    }
   ],
   "source": [
    "df['RegionalDistrict'].unique()"
   ]
  },
  {
   "cell_type": "code",
   "execution_count": 25,
   "id": "ce560b9e-33a1-4462-8bc8-2fcfeb0cd79b",
   "metadata": {
    "tags": []
   },
   "outputs": [],
   "source": [
    "df.to_csv('vancouver_island_data.csv')"
   ]
  },
  {
   "cell_type": "code",
   "execution_count": 26,
   "id": "c946b677-a85c-490a-b6b2-b18b724ef46e",
   "metadata": {
    "tags": []
   },
   "outputs": [
    {
     "data": {
      "text/plain": [
       "Index(['DevelopmentRegion', 'RegionalDistrict', 'Municipality', 'Month',\n",
       "       'n_res_trans', 'n_res_1fam', 'n_res_strata', 'n_res_fam',\n",
       "       'n_res_strata_rental', 'n_res_acreage_trans', 'n_res_unkn',\n",
       "       'sum_FMV_res', 'n_fth'],\n",
       "      dtype='object')"
      ]
     },
     "execution_count": 26,
     "metadata": {},
     "output_type": "execute_result"
    }
   ],
   "source": [
    "df.columns"
   ]
  },
  {
   "cell_type": "code",
   "execution_count": null,
   "id": "4e2e89f1-c573-4929-9ec3-db7a8f0fce63",
   "metadata": {},
   "outputs": [],
   "source": []
  }
 ],
 "metadata": {
  "kernelspec": {
   "display_name": "Python 3 (ipykernel)",
   "language": "python",
   "name": "python3"
  },
  "language_info": {
   "codemirror_mode": {
    "name": "ipython",
    "version": 3
   },
   "file_extension": ".py",
   "mimetype": "text/x-python",
   "name": "python",
   "nbconvert_exporter": "python",
   "pygments_lexer": "ipython3",
   "version": "3.8.10"
  }
 },
 "nbformat": 4,
 "nbformat_minor": 5
}
