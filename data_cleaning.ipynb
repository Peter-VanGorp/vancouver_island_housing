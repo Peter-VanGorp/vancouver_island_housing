{
 "cells": [
  {
   "cell_type": "code",
   "execution_count": 17,
   "id": "f19e42c5-38c3-4a46-805b-0a9a81a5c00a",
   "metadata": {
    "tags": []
   },
   "outputs": [],
   "source": [
    "#Vancouver Island Property Data Analysis\n",
    "#Data from BC Data Catalogue: https://catalogue.data.gov.bc.ca/datasets"
   ]
  },
  {
   "cell_type": "code",
   "execution_count": null,
   "id": "2452d817-3768-4c1c-950a-75a73682b16d",
   "metadata": {},
   "outputs": [],
   "source": [
    "import pandas as pd\n",
    "import numpy as np"
   ]
  },
  {
   "cell_type": "code",
   "execution_count": 42,
   "id": "5730ce98-1a7d-4cc5-8983-23630b9afd2b",
   "metadata": {
    "tags": []
   },
   "outputs": [],
   "source": [
    "raw_data_2019 = pd.read_csv('municipal_monthly_2019.csv')\n",
    "raw_data_2020 = pd.read_csv('municipal_monthly_2020.csv')\n",
    "raw_data_2021 = pd.read_csv('municipal_monthly_2021.csv')\n",
    "raw_data_2022 = pd.read_csv('municipal_monthly_2022.csv')\n",
    "raw_data_2023 = pd.read_csv('municipal_monthly_2023.csv')\n",
    "\n",
    "raw_data = pd.concat([raw_data_2019, raw_data_2020, raw_data_2021, raw_data_2022, raw_data_2023], ignore_index=True)"
   ]
  },
  {
   "cell_type": "code",
   "execution_count": 43,
   "id": "06689703-47e4-4b49-bbdd-566c6e396de6",
   "metadata": {
    "tags": []
   },
   "outputs": [
    {
     "data": {
      "text/plain": [
       "Index(['DevelopmentRegion', 'RegionalDistrict', 'Municipality', 'Year',\n",
       "       'Month', 'tot_mkt_trans', 'n_res_trans', 'n_res_1fam', 'n_res_strata',\n",
       "       'n_res_fam', 'n_res_strata_rental', 'n_res_acreage_trans', 'n_res_unkn',\n",
       "       'n_comm_tran', 'n_comm_comm', 'n_comm_strata_nores', 'n_comm_industry',\n",
       "       'n_comm_util', 'n_comm_unkn', 'n_farm_tran', 'n_recr_tran',\n",
       "       'n_forest_tran', 'n_unkn_tran', 'n_fth', 'n_nbh', 'n_tot_corp_tran',\n",
       "       'n_tot_indv_tran', 'sum_FMV', 'mn_FMV', 'md_FMV', 'sum_PPT_paid',\n",
       "       'md_PPT', 'n_foreign_tran', 'n_foreign_res', 'n_foreign_comm',\n",
       "       'n_foreign_oth_unk', 'n_foreign_corp_tran', 'n_foreign_indv_tran',\n",
       "       'perc_n_foreign_res', 'sum_FMV_foreign_res', 'mn_FMV_foreign_res',\n",
       "       'md_FMV_foreign_res', 'n_lt1M_foreign_res', 'n_gt1M_foreign_res',\n",
       "       'n_gt3M_foreign_res', 'add_tax_paid', 'sum_FMV_foreign', 'sum_FMV_res',\n",
       "       'perc_FMV_foreign_res', 'sum_invest_foreign_res',\n",
       "       'perc_invest_foreign_res'],\n",
       "      dtype='object')"
      ]
     },
     "execution_count": 43,
     "metadata": {},
     "output_type": "execute_result"
    }
   ],
   "source": [
    "raw_data.columns"
   ]
  },
  {
   "cell_type": "code",
   "execution_count": 52,
   "id": "9d4d95db-e397-4762-b2f2-26510dc307bf",
   "metadata": {
    "tags": []
   },
   "outputs": [],
   "source": [
    "#grab residential data\n",
    "df = raw_data[['DevelopmentRegion', 'RegionalDistrict', 'Municipality', 'Year', 'Month', 'n_res_trans', 'n_res_1fam', 'n_res_strata',\n",
    "       'n_res_fam', 'n_res_strata_rental', 'n_res_acreage_trans', 'n_res_unkn', 'sum_FMV_res', 'n_fth']]"
   ]
  },
  {
   "cell_type": "code",
   "execution_count": 53,
   "id": "acf8e00a-5d25-4b2b-821e-6d3cd2e2fb3f",
   "metadata": {
    "tags": []
   },
   "outputs": [
    {
     "data": {
      "text/plain": [
       "array(['Cariboo', 'Kootenay', 'Mainland/Southwest',\n",
       "       'Nechako & North Coast', 'Northeast', 'Thompson/Okanagan',\n",
       "       'Unknown', 'Vancouver Island/Coast'], dtype=object)"
      ]
     },
     "execution_count": 53,
     "metadata": {},
     "output_type": "execute_result"
    }
   ],
   "source": [
    "df['DevelopmentRegion'].unique()"
   ]
  },
  {
   "cell_type": "code",
   "execution_count": 54,
   "id": "9a71e9b7-7e4f-441e-aa2a-e55dfd07efcb",
   "metadata": {
    "tags": []
   },
   "outputs": [],
   "source": [
    "df = df.loc[df['DevelopmentRegion'] == 'Vancouver Island/Coast']"
   ]
  },
  {
   "cell_type": "code",
   "execution_count": 55,
   "id": "499edf2d-2cea-4ecf-8462-ad16d51da27d",
   "metadata": {
    "tags": []
   },
   "outputs": [
    {
     "data": {
      "text/plain": [
       "array(['01 - Alberni-Clayoquot', '03 - Capital', '09 - Comox Valley',\n",
       "       '10 - Cowichan Valley', '17 - Mount Waddington', '18 - Nanaimo',\n",
       "       '20 - Central Coast', '23 - qathet', '31 - Strathcona'],\n",
       "      dtype=object)"
      ]
     },
     "execution_count": 55,
     "metadata": {},
     "output_type": "execute_result"
    }
   ],
   "source": [
    "df['RegionalDistrict'].unique()"
   ]
  },
  {
   "cell_type": "code",
   "execution_count": 56,
   "id": "6e05ac81-11d6-4158-9f2f-486e8a8e5ef2",
   "metadata": {},
   "outputs": [],
   "source": [
    "#remove id number from region and municipality\n",
    "df['RegionalDistrict'] = df['RegionalDistrict'].str.split(' - ').str[1]\n",
    "df['Municipality'] = df['Municipality'].str.split(' - ').str[1]"
   ]
  },
  {
   "cell_type": "code",
   "execution_count": 57,
   "id": "ce560b9e-33a1-4462-8bc8-2fcfeb0cd79b",
   "metadata": {
    "tags": []
   },
   "outputs": [],
   "source": [
    "df.to_csv('vancouver_island_data.csv')"
   ]
  },
  {
   "cell_type": "code",
   "execution_count": 58,
   "id": "4e2e89f1-c573-4929-9ec3-db7a8f0fce63",
   "metadata": {},
   "outputs": [
    {
     "data": {
      "text/html": [
       "<div>\n",
       "<style scoped>\n",
       "    .dataframe tbody tr th:only-of-type {\n",
       "        vertical-align: middle;\n",
       "    }\n",
       "\n",
       "    .dataframe tbody tr th {\n",
       "        vertical-align: top;\n",
       "    }\n",
       "\n",
       "    .dataframe thead th {\n",
       "        text-align: right;\n",
       "    }\n",
       "</style>\n",
       "<table border=\"1\" class=\"dataframe\">\n",
       "  <thead>\n",
       "    <tr style=\"text-align: right;\">\n",
       "      <th></th>\n",
       "      <th>DevelopmentRegion</th>\n",
       "      <th>RegionalDistrict</th>\n",
       "      <th>Municipality</th>\n",
       "      <th>Year</th>\n",
       "      <th>Month</th>\n",
       "      <th>n_res_trans</th>\n",
       "      <th>n_res_1fam</th>\n",
       "      <th>n_res_strata</th>\n",
       "      <th>n_res_fam</th>\n",
       "      <th>n_res_strata_rental</th>\n",
       "      <th>n_res_acreage_trans</th>\n",
       "      <th>n_res_unkn</th>\n",
       "      <th>sum_FMV_res</th>\n",
       "      <th>n_fth</th>\n",
       "    </tr>\n",
       "  </thead>\n",
       "  <tbody>\n",
       "    <tr>\n",
       "      <th>2196</th>\n",
       "      <td>Vancouver Island/Coast</td>\n",
       "      <td>Alberni-Clayoquot</td>\n",
       "      <td>City of Port Alberni</td>\n",
       "      <td>2019</td>\n",
       "      <td>1</td>\n",
       "      <td>41</td>\n",
       "      <td>37</td>\n",
       "      <td>2</td>\n",
       "      <td>1</td>\n",
       "      <td>0</td>\n",
       "      <td>0</td>\n",
       "      <td>1</td>\n",
       "      <td>11647200.00</td>\n",
       "      <td>5</td>\n",
       "    </tr>\n",
       "    <tr>\n",
       "      <th>2197</th>\n",
       "      <td>Vancouver Island/Coast</td>\n",
       "      <td>Alberni-Clayoquot</td>\n",
       "      <td>City of Port Alberni</td>\n",
       "      <td>2019</td>\n",
       "      <td>2</td>\n",
       "      <td>27</td>\n",
       "      <td>24</td>\n",
       "      <td>2</td>\n",
       "      <td>1</td>\n",
       "      <td>0</td>\n",
       "      <td>0</td>\n",
       "      <td>0</td>\n",
       "      <td>7701181.00</td>\n",
       "      <td>3</td>\n",
       "    </tr>\n",
       "    <tr>\n",
       "      <th>2198</th>\n",
       "      <td>Vancouver Island/Coast</td>\n",
       "      <td>Alberni-Clayoquot</td>\n",
       "      <td>City of Port Alberni</td>\n",
       "      <td>2019</td>\n",
       "      <td>3</td>\n",
       "      <td>27</td>\n",
       "      <td>24</td>\n",
       "      <td>2</td>\n",
       "      <td>0</td>\n",
       "      <td>0</td>\n",
       "      <td>0</td>\n",
       "      <td>1</td>\n",
       "      <td>7245800.00</td>\n",
       "      <td>6</td>\n",
       "    </tr>\n",
       "    <tr>\n",
       "      <th>2199</th>\n",
       "      <td>Vancouver Island/Coast</td>\n",
       "      <td>Alberni-Clayoquot</td>\n",
       "      <td>City of Port Alberni</td>\n",
       "      <td>2019</td>\n",
       "      <td>4</td>\n",
       "      <td>44</td>\n",
       "      <td>39</td>\n",
       "      <td>3</td>\n",
       "      <td>2</td>\n",
       "      <td>0</td>\n",
       "      <td>0</td>\n",
       "      <td>0</td>\n",
       "      <td>12590600.00</td>\n",
       "      <td>12</td>\n",
       "    </tr>\n",
       "    <tr>\n",
       "      <th>2200</th>\n",
       "      <td>Vancouver Island/Coast</td>\n",
       "      <td>Alberni-Clayoquot</td>\n",
       "      <td>City of Port Alberni</td>\n",
       "      <td>2019</td>\n",
       "      <td>5</td>\n",
       "      <td>49</td>\n",
       "      <td>45</td>\n",
       "      <td>4</td>\n",
       "      <td>0</td>\n",
       "      <td>0</td>\n",
       "      <td>0</td>\n",
       "      <td>0</td>\n",
       "      <td>12812266.67</td>\n",
       "      <td>10</td>\n",
       "    </tr>\n",
       "    <tr>\n",
       "      <th>...</th>\n",
       "      <td>...</td>\n",
       "      <td>...</td>\n",
       "      <td>...</td>\n",
       "      <td>...</td>\n",
       "      <td>...</td>\n",
       "      <td>...</td>\n",
       "      <td>...</td>\n",
       "      <td>...</td>\n",
       "      <td>...</td>\n",
       "      <td>...</td>\n",
       "      <td>...</td>\n",
       "      <td>...</td>\n",
       "      <td>...</td>\n",
       "      <td>...</td>\n",
       "    </tr>\n",
       "    <tr>\n",
       "      <th>13265</th>\n",
       "      <td>Vancouver Island/Coast</td>\n",
       "      <td>Strathcona</td>\n",
       "      <td>Courtenay Rural</td>\n",
       "      <td>2023</td>\n",
       "      <td>3</td>\n",
       "      <td>0</td>\n",
       "      <td>0</td>\n",
       "      <td>0</td>\n",
       "      <td>0</td>\n",
       "      <td>0</td>\n",
       "      <td>0</td>\n",
       "      <td>0</td>\n",
       "      <td>0.00</td>\n",
       "      <td>0</td>\n",
       "    </tr>\n",
       "    <tr>\n",
       "      <th>13266</th>\n",
       "      <td>Vancouver Island/Coast</td>\n",
       "      <td>Strathcona</td>\n",
       "      <td>Courtenay Rural</td>\n",
       "      <td>2023</td>\n",
       "      <td>4</td>\n",
       "      <td>1</td>\n",
       "      <td>0</td>\n",
       "      <td>0</td>\n",
       "      <td>0</td>\n",
       "      <td>0</td>\n",
       "      <td>1</td>\n",
       "      <td>0</td>\n",
       "      <td>1450000.00</td>\n",
       "      <td>0</td>\n",
       "    </tr>\n",
       "    <tr>\n",
       "      <th>13267</th>\n",
       "      <td>Vancouver Island/Coast</td>\n",
       "      <td>Strathcona</td>\n",
       "      <td>Courtenay Rural</td>\n",
       "      <td>2023</td>\n",
       "      <td>5</td>\n",
       "      <td>0</td>\n",
       "      <td>0</td>\n",
       "      <td>0</td>\n",
       "      <td>0</td>\n",
       "      <td>0</td>\n",
       "      <td>0</td>\n",
       "      <td>0</td>\n",
       "      <td>0.00</td>\n",
       "      <td>0</td>\n",
       "    </tr>\n",
       "    <tr>\n",
       "      <th>13268</th>\n",
       "      <td>Vancouver Island/Coast</td>\n",
       "      <td>Strathcona</td>\n",
       "      <td>Courtenay Rural</td>\n",
       "      <td>2023</td>\n",
       "      <td>6</td>\n",
       "      <td>1</td>\n",
       "      <td>1</td>\n",
       "      <td>0</td>\n",
       "      <td>0</td>\n",
       "      <td>0</td>\n",
       "      <td>0</td>\n",
       "      <td>0</td>\n",
       "      <td>690000.00</td>\n",
       "      <td>0</td>\n",
       "    </tr>\n",
       "    <tr>\n",
       "      <th>13269</th>\n",
       "      <td>Vancouver Island/Coast</td>\n",
       "      <td>Strathcona</td>\n",
       "      <td>Courtenay Rural</td>\n",
       "      <td>2023</td>\n",
       "      <td>7</td>\n",
       "      <td>0</td>\n",
       "      <td>0</td>\n",
       "      <td>0</td>\n",
       "      <td>0</td>\n",
       "      <td>0</td>\n",
       "      <td>0</td>\n",
       "      <td>0</td>\n",
       "      <td>0.00</td>\n",
       "      <td>0</td>\n",
       "    </tr>\n",
       "  </tbody>\n",
       "</table>\n",
       "<p>3140 rows × 14 columns</p>\n",
       "</div>"
      ],
      "text/plain": [
       "            DevelopmentRegion   RegionalDistrict          Municipality  Year  \\\n",
       "2196   Vancouver Island/Coast  Alberni-Clayoquot  City of Port Alberni  2019   \n",
       "2197   Vancouver Island/Coast  Alberni-Clayoquot  City of Port Alberni  2019   \n",
       "2198   Vancouver Island/Coast  Alberni-Clayoquot  City of Port Alberni  2019   \n",
       "2199   Vancouver Island/Coast  Alberni-Clayoquot  City of Port Alberni  2019   \n",
       "2200   Vancouver Island/Coast  Alberni-Clayoquot  City of Port Alberni  2019   \n",
       "...                       ...                ...                   ...   ...   \n",
       "13265  Vancouver Island/Coast         Strathcona       Courtenay Rural  2023   \n",
       "13266  Vancouver Island/Coast         Strathcona       Courtenay Rural  2023   \n",
       "13267  Vancouver Island/Coast         Strathcona       Courtenay Rural  2023   \n",
       "13268  Vancouver Island/Coast         Strathcona       Courtenay Rural  2023   \n",
       "13269  Vancouver Island/Coast         Strathcona       Courtenay Rural  2023   \n",
       "\n",
       "       Month  n_res_trans  n_res_1fam  n_res_strata  n_res_fam  \\\n",
       "2196       1           41          37             2          1   \n",
       "2197       2           27          24             2          1   \n",
       "2198       3           27          24             2          0   \n",
       "2199       4           44          39             3          2   \n",
       "2200       5           49          45             4          0   \n",
       "...      ...          ...         ...           ...        ...   \n",
       "13265      3            0           0             0          0   \n",
       "13266      4            1           0             0          0   \n",
       "13267      5            0           0             0          0   \n",
       "13268      6            1           1             0          0   \n",
       "13269      7            0           0             0          0   \n",
       "\n",
       "       n_res_strata_rental  n_res_acreage_trans  n_res_unkn  sum_FMV_res  \\\n",
       "2196                     0                    0           1  11647200.00   \n",
       "2197                     0                    0           0   7701181.00   \n",
       "2198                     0                    0           1   7245800.00   \n",
       "2199                     0                    0           0  12590600.00   \n",
       "2200                     0                    0           0  12812266.67   \n",
       "...                    ...                  ...         ...          ...   \n",
       "13265                    0                    0           0         0.00   \n",
       "13266                    0                    1           0   1450000.00   \n",
       "13267                    0                    0           0         0.00   \n",
       "13268                    0                    0           0    690000.00   \n",
       "13269                    0                    0           0         0.00   \n",
       "\n",
       "       n_fth  \n",
       "2196       5  \n",
       "2197       3  \n",
       "2198       6  \n",
       "2199      12  \n",
       "2200      10  \n",
       "...      ...  \n",
       "13265      0  \n",
       "13266      0  \n",
       "13267      0  \n",
       "13268      0  \n",
       "13269      0  \n",
       "\n",
       "[3140 rows x 14 columns]"
      ]
     },
     "execution_count": 58,
     "metadata": {},
     "output_type": "execute_result"
    }
   ],
   "source": [
    "df"
   ]
  },
  {
   "cell_type": "code",
   "execution_count": null,
   "id": "0aa59cad-c357-484d-8318-c8226e99ab5a",
   "metadata": {},
   "outputs": [],
   "source": []
  }
 ],
 "metadata": {
  "kernelspec": {
   "display_name": "Python 3 (ipykernel)",
   "language": "python",
   "name": "python3"
  },
  "language_info": {
   "codemirror_mode": {
    "name": "ipython",
    "version": 3
   },
   "file_extension": ".py",
   "mimetype": "text/x-python",
   "name": "python",
   "nbconvert_exporter": "python",
   "pygments_lexer": "ipython3",
   "version": "3.8.10"
  }
 },
 "nbformat": 4,
 "nbformat_minor": 5
}
